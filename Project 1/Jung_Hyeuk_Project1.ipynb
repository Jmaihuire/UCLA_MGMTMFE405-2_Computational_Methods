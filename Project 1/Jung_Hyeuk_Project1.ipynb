{
 "cells": [
  {
   "cell_type": "code",
   "execution_count": 1,
   "metadata": {},
   "outputs": [],
   "source": [
    "\n",
    "#\n",
    "# Jung_Hyeuk_Project1.py\n",
    "# MGMTMFE405-2 Computational Methods in Finance - Project 1\n",
    "# Hyeuk Jung (005250560)\n",
    "#\n",
    "\n",
    "\n",
    "import random\n",
    "import time\n",
    "import pandas as pd\n",
    "import numpy as np\n",
    "import matplotlib.pyplot as plt\n",
    "from scipy.stats import binom\n",
    "from math import *\n",
    "\n",
    "\n",
    "# Random Number Generator - LGM Method\n",
    "def randomlgm(n):\n",
    "    # LGM Method parameters\n",
    "    m = 2**31 - 1; a = 7**5; b = 0\n",
    "    \n",
    "    # Generate n random variables\n",
    "    X = list()\n",
    "    X.append(time.time())\n",
    "    for i in range(n-1):\n",
    "        X.append( (a*X[i] + b) % m ) #x1 = (a*X[i] + b) % m\n",
    "    \n",
    "    # Transform random numbers to follow U[0,1]\n",
    "    uniform = list(map(lambda x: x/m, X))\n",
    "    \n",
    "    return uniform\n",
    "\n",
    "##### 5. (a) 5000 random numbers ~ U[0, 1]\n",
    "##### 5. (b) Box-Muller method\n",
    "def box_muller(n):\n",
    "    u1 = randomlgm(n)\n",
    "    u2 = randomlgm(n)\n",
    "    box_z1 = [ sqrt(-2*log(x)) * cos(2*pi*y) for x, y in zip(u1, u2) ]\n",
    "    box_z2 = [ sqrt(-2*log(x)) * sin(2*pi*y) for x, y in zip(u1, u2) ]\n",
    "    return (box_z1, box_z2)\n",
    "\n",
    "def polar_marsaglia(n):\n",
    "    u1 = randomlgm(n)\n",
    "    u2 = randomlgm(n)\n",
    "    v1 = [ 2*x - 1 for x in u1 ]\n",
    "    v2 = [ 2*x - 1 for x in u2 ]\n",
    "    #w = [x**2 + y**2 for x, y in zip(v1, v2)]\n",
    "    w = [x*x + y*y for x, y in zip(v1, v2)]\n",
    "    polar_z1 = [ y*sqrt((-2*log(x))/x) for x, y in zip(w, v1) if x <= 1 ]\n",
    "    polar_z2 = [ y*sqrt((-2*log(x))/x) for x, y in zip(w, v2) if x <= 1 ]\n",
    "    return (polar_z1, polar_z2)\n",
    "\n"
   ]
  },
  {
   "cell_type": "code",
   "execution_count": 2,
   "metadata": {},
   "outputs": [
    {
     "data": {
      "image/png": "[encoded data removed]",
      "text/plain": [
       "<Figure size 432x288 with 1 Axes>"
      ]
     },
     "metadata": {
      "needs_background": "light"
     },
     "output_type": "display_data"
    },
    {
     "data": {
      "image/png": "[encoded data removed]",
      "text/plain": [
       "<Figure size 432x288 with 1 Axes>"
      ]
     },
     "metadata": {
      "needs_background": "light"
     },
     "output_type": "display_data"
    },
    {
     "name": "stdout",
     "output_type": "stream",
     "text": [
      "1. (c) Compare the findings in (a) and (b):\n",
      "               Mean        SD\n",
      "LGM       0.503442  0.286934\n",
      "Built-in  0.500775  0.287329\n",
      "\n",
      "Both trials show similar results. Means and standard deviations do not vary a lot from each other.\n"
     ]
    }
   ],
   "source": [
    "##### 1. (a) Random Number Generators using LGM method\n",
    "n = 10000\n",
    "uni1 = randomlgm(n)\n",
    "uni1_mean = np.mean(uni1)\n",
    "uni1_sd = np.std(uni1)\n",
    "\n",
    "##### 1. (b) U[0, 1] using built-in functions\n",
    "uni2 = np.random.uniform(0, 1, 10000)\n",
    "uni2_mean = np.mean(uni2)\n",
    "uni2_sd = np.std(uni2)\n",
    "\n",
    "##### 1. (c) Compare results from (a) and (b)\n",
    "# Used the 'density' property change the frequency to probabilities\n",
    "plt.figure()\n",
    "plt.hist(uni1, density = True, bins = 50)\n",
    "plt.title('Uniform Distribution, LGM Method')\n",
    "plt.ylabel('Probability')\n",
    "plt.show()\n",
    "\n",
    "plt.figure()\n",
    "plt.hist(uni2, density = True, bins = 50)\n",
    "plt.title('Uniform Distribution, Built-in function')\n",
    "plt.ylabel('Probability')\n",
    "plt.show()\n",
    "\n",
    "column_names = ['Mean', 'SD']\n",
    "row_names = ['LGM', 'Built-in']\n",
    "matrix = np.reshape((uni1_mean, uni1_sd, uni2_mean, uni2_sd), (2, 2))\n",
    "df = pd.DataFrame(matrix, columns=column_names, index=row_names)\n",
    "print('1. (c) Compare the findings in (a) and (b):\\n', df)\n",
    "print('\\nBoth trials show similar results. Means and standard deviations do not vary a lot from each other.')\n",
    "\n"
   ]
  },
  {
   "cell_type": "code",
   "execution_count": 3,
   "metadata": {},
   "outputs": [
    {
     "data": {
      "image/png": "[encoded data removed]",
      "text/plain": [
       "<Figure size 432x288 with 1 Axes>"
      ]
     },
     "metadata": {
      "needs_background": "light"
     },
     "output_type": "display_data"
    },
    {
     "name": "stdout",
     "output_type": "stream",
     "text": [
      "2. (b) Empirical mean and the standard deviation:\n",
      "            Mean        SD\n",
      "Discrete  0.208  1.019871\n"
     ]
    }
   ],
   "source": [
    "##### 2. (a) General Discrete Distributions using 1. (a) results\n",
    "# p = [0.3, 0.35, 0.2, 0.15]\n",
    "Z = list()\n",
    "for x in uni1:\n",
    "    if x < 0.3: \n",
    "        Z.append(-1)\n",
    "    elif x < 0.65:\n",
    "        Z.append(0)\n",
    "    elif x < 0.85:\n",
    "        Z.append(1)\n",
    "    else:\n",
    "        Z.append(2)\n",
    "\n",
    "##### 2. (b) Histogram and the empirical mean and the sd\n",
    "plt.figure()\n",
    "plt.hist(Z, density = True)\n",
    "plt.title('General Discrete Distribution, p = [0.3, 0.35, 0.2, 0.15]')\n",
    "plt.ylabel('Probability')\n",
    "plt.show()\n",
    "\n",
    "Z_mean = np.mean(Z)\n",
    "Z_sd = np.std(Z)\n",
    "matrix2 = np.reshape((Z_mean, Z_sd), (1, 2))\n",
    "df2 = pd.DataFrame(matrix2, columns = column_names, index=['Discrete'])\n",
    "print('2. (b) Empirical mean and the standard deviation:\\n', df2)\n",
    "\n"
   ]
  },
  {
   "cell_type": "code",
   "execution_count": 4,
   "metadata": {},
   "outputs": [
    {
     "data": {
      "image/png": "[encoded data removed]",
      "text/plain": [
       "<Figure size 432x288 with 1 Axes>"
      ]
     },
     "metadata": {
      "needs_background": "light"
     },
     "output_type": "display_data"
    },
    {
     "name": "stdout",
     "output_type": "stream",
     "text": [
      "3. (b) Comparing P(X>=40) results:\n",
      "           Data     Exact\n",
      "Binomial   0.0  0.000048\n",
      "\n",
      "Both results are close to zero. To obtain exact probability from the data, we need larger size of samples.\n"
     ]
    }
   ],
   "source": [
    "##### 3. (a) 1,000 random numbers with Binomial distribution with 𝑛=44 and 𝑝=0.64.\n",
    "# Generate 44,000 random numbers\n",
    "n = 44000\n",
    "uni3 = randomlgm(n)\n",
    "temp = [1 if x < 0.64 else 0 for x in uni3]\n",
    "\n",
    "# Binomial = sum(Bernoulli)\n",
    "binomial = [ sum(temp[x:x+44]) for x in range(0, len(temp), 44) ]\n",
    "\n",
    "##### 3. (b) Histogram and P(X >= 40)\n",
    "plt.figure()\n",
    "plt.hist(binomial)\n",
    "plt.title('Binomial Distribution, n = 44, p = 0.64')\n",
    "plt.ylabel('Frequencies')\n",
    "plt.show()\n",
    "\n",
    "# Probability from the data\n",
    "freq = 0\n",
    "for i in range(40, 45):\n",
    "    freq += binomial.count(i)\n",
    "\n",
    "# Probability of the exact number using pmf and cdf\n",
    "n = 44; p = 0.64\n",
    "p_39 = 0\n",
    "for i in range(40):\n",
    "    # i: from 0 to 39\n",
    "    p_39 += binom.pmf(i, n, p)\n",
    "# 1- binom.cdf(39, n, p, loc=0) # using cdf\n",
    "\n",
    "matrix3 = np.reshape((freq / len(binomial), 1- p_39), (1, 2))\n",
    "df3 = pd.DataFrame(matrix3, columns = ['Data', 'Exact'], index=['Binomial'])\n",
    "print('3. (b) Comparing P(X>=40) results:\\n', df3)\n",
    "print('\\nBoth results are close to zero. To obtain exact probability from the data, we need larger size of samples.')\n",
    "\n"
   ]
  },
  {
   "cell_type": "code",
   "execution_count": 5,
   "metadata": {},
   "outputs": [
    {
     "name": "stdout",
     "output_type": "stream",
     "text": [
      "4. (b):\n",
      " P(X >= 1) = 0.5228522852285229 ; P(X >= 4) = 0.06820682068206821\n"
     ]
    },
    {
     "data": {
      "image/png": "[encoded data removed]",
      "text/plain": [
       "<Figure size 432x288 with 1 Axes>"
      ]
     },
     "metadata": {
      "needs_background": "light"
     },
     "output_type": "display_data"
    },
    {
     "name": "stdout",
     "output_type": "stream",
     "text": [
      "\n",
      "4. (c) Empirical mean and the standard deviation:\n",
      "                Mean        SD\n",
      "Exponential  1.5028  1.481537\n"
     ]
    }
   ],
   "source": [
    "##### 4. (a) 10000 random numbers ~ Exponential(lambda = 1.5)\n",
    "gamma = 1.5\n",
    "n = 10000\n",
    "exp = list()\n",
    "for i in range(n-1): \n",
    "    exp.append((-1) * gamma * log(1 - uni1[i]))\n",
    "\n",
    "##### 4. (b) P(X >= 1) and P(X >= 4)\n",
    "prob1 = sum(1 for i in exp if i >= 1) / len(exp)\n",
    "prob4 = sum(1 for i in exp if i >= 4) / len(exp)\n",
    "print('4. (b):\\n', 'P(X >= 1) =', prob1, '; P(X >= 4) =', prob4)\n",
    "\n",
    "##### 4. (c) mean, sd, and histogram\n",
    "plt.figure()\n",
    "plt.hist(exp, density = True)\n",
    "plt.title('Exponential(mean = 1.5)')\n",
    "plt.ylabel('Probability')\n",
    "plt.show()\n",
    "\n",
    "matrix4 = np.reshape((np.mean(exp), np.std(exp)), (1, 2))\n",
    "df4 = pd.DataFrame(matrix4, columns = ['Mean', 'SD'], index=['Exponential'])\n",
    "print('\\n4. (c) Empirical mean and the standard deviation:\\n', df4)\n",
    "\n"
   ]
  },
  {
   "cell_type": "code",
   "execution_count": 6,
   "metadata": {},
   "outputs": [
    {
     "name": "stdout",
     "output_type": "stream",
     "text": [
      "5. (c) Empirical mean and the SD of the Box-Muller method:\n",
      "         Mean        SD\n",
      "z1 -0.012872  0.995564\n",
      "z2  0.018986  0.987140\n",
      "\n",
      "5. (e) Empirical mean and the SD of the Polar-Marsaglia method:\n",
      "         Mean        SD\n",
      "z1 -0.012905  0.983324\n",
      "z2  0.001161  1.001884\n"
     ]
    }
   ],
   "source": [
    "##### 5. (a) Box-Muller method - Generating 5000 uniformly distributed numbers\n",
    "##### 5. (b) Box-Muller method\n",
    "n = 5000\n",
    "box_z1, box_z2 = box_muller(n)\n",
    "\n",
    "##### 5. (c) mean, sd of the Box-Muller method\n",
    "matrix5 = np.reshape((np.mean(box_z1), np.std(box_z1), np.mean(box_z2), np.std(box_z2)), (2, 2))\n",
    "df5 = pd.DataFrame(matrix5, columns = ['Mean', 'SD'], index=['z1', 'z2'])\n",
    "print('5. (c) Empirical mean and the SD of the Box-Muller method:\\n', df5)\n",
    "\n",
    "##### 5. (d) Polar-Marsaglia method\n",
    "polar_z1, polar_z2 = polar_marsaglia(n)\n",
    "\n",
    "##### 5. (e) mean, sd of the Polar-Marsaglia method\n",
    "matrix6 = np.reshape((np.mean(polar_z1), np.std(polar_z1), np.mean(polar_z2), np.std(polar_z2)), (2, 2))\n",
    "df6 = pd.DataFrame(matrix6, columns = ['Mean', 'SD'], index=['z1', 'z2'])\n",
    "print('\\n5. (e) Empirical mean and the SD of the Polar-Marsaglia method:\\n', df6)\n"
   ]
  },
  {
   "cell_type": "code",
   "execution_count": 7,
   "metadata": {},
   "outputs": [
    {
     "name": "stdout",
     "output_type": "stream",
     "text": [
      "\n",
      "5. (f) Execution time comparison:\n",
      "        Box-Muller  Polar-Marsaglia\n",
      "5000     0.007775         0.009114\n",
      "5500     0.009035         0.010850\n",
      "6000     0.010834         0.011280\n",
      "6500     0.010430         0.012245\n",
      "7000     0.010957         0.012819\n",
      "7500     0.011149         0.013769\n",
      "8000     0.011895         0.014849\n",
      "8500     0.012206         0.015950\n",
      "9000     0.012599         0.016456\n",
      "9500     0.013390         0.017301\n",
      "10000    0.014501         0.017799\n",
      "10500    0.015343         0.019076\n",
      "11000    0.015725         0.020749\n",
      "11500    0.016827         0.021080\n",
      "12000    0.017964         0.021880\n",
      "12500    0.018391         0.022607\n",
      "13000    0.018814         0.023460\n",
      "13500    0.019348         0.024801\n",
      "14000    0.020060         0.027016\n",
      "14500    0.020041         0.029385\n",
      "15000    0.021303         0.029960\n",
      "15500    0.021814         0.031742\n",
      "16000    0.023327         0.031920\n",
      "16500    0.023749         0.031905\n",
      "17000    0.024581         0.033803\n",
      "17500    0.025961         0.031487\n",
      "18000    0.026533         0.032825\n",
      "18500    0.026258         0.035899\n",
      "19000    0.026503         0.041038\n",
      "19500    0.026812         0.042741\n"
     ]
    },
    {
     "data": {
      "image/png": "[encoded data removed]",
      "text/plain": [
       "<Figure size 432x288 with 1 Axes>"
      ]
     },
     "metadata": {
      "needs_background": "light"
     },
     "output_type": "display_data"
    },
    {
     "name": "stdout",
     "output_type": "stream",
     "text": [
      "In theory, for the same number of inputs, execution time of the Box-Muller method is expected to be longer than the Polar-Marsaglia method because of the complexity of sine and cosine function. When we compare the execution time to get the same number of normally distributed random numbers, however, the Polar-Marsaglia method shows longer execution time due to the need of larger number (roughly 27%) of inputs.\n",
      "From this result, we can conclude that the Box-Muller method is more efficient under the condition to get the large number of normally distributed random numbers.\n"
     ]
    }
   ],
   "source": [
    "##### 5. (f) execution time\n",
    "n = range(5000, 20000, 500)\n",
    "box_execution = list()\n",
    "for x in n:\n",
    "    start = time.time()\n",
    "    box_z1, box_z2 = box_muller(x)\n",
    "    box_time = time.time() - start\n",
    "    box_execution.append(box_time)\n",
    "\n",
    "polar_execution = list()\n",
    "for y in n:\n",
    "    start = time.time()\n",
    "    while(True):\n",
    "        polar_z1, polar_z2 = polar_marsaglia(round(y*4/pi*1.05)) # extra 5% inputs\n",
    "        if (len(polar_z1) >= y and len(polar_z2) >= y):\n",
    "            polar_z1 = polar_z1[0:y]\n",
    "            polar_z2 = polar_z2[0:y]\n",
    "            break\n",
    "    polar_time = time.time() - start\n",
    "    polar_execution.append(polar_time)\n",
    "\n",
    "matrix7 = {'Box-Muller': box_execution,'Polar-Marsaglia': polar_execution}\n",
    "df7 = pd.DataFrame(matrix7, columns = ['Box-Muller', 'Polar-Marsaglia'], index=n)\n",
    "print('\\n5. (f) Execution time comparison:\\n', df7)\n",
    "\n",
    "plt.plot(n, box_execution, color = 'tab:red')\n",
    "plt.plot(n, polar_execution, color = 'tab:blue')\n",
    "plt.gca().legend(('Box-Muller','Polar-Marsaglia'))\n",
    "plt.show()\n",
    "\n",
    "print('In theory, for the same number of inputs, execution time of the Box-Muller method is expected to be longer than the Polar-Marsaglia method because of the complexity of sine and cosine function. When we compare the execution time to get the same number of normally distributed random numbers, however, the Polar-Marsaglia method shows longer execution time due to the need of larger number (roughly 27%) of inputs.\\nFrom this result, we can conclude that the Box-Muller method is more efficient under the condition to get the large number of normally distributed random numbers.')\n"
   ]
  }
 ],
 "metadata": {
  "file_extension": ".py",
  "kernelspec": {
   "display_name": "Python 3",
   "language": "python",
   "name": "python3"
  },
  "language_info": {
   "codemirror_mode": {
    "name": "ipython",
    "version": 3
   },
   "file_extension": ".py",
   "mimetype": "text/x-python",
   "name": "python",
   "nbconvert_exporter": "python",
   "pygments_lexer": "ipython3",
   "version": "3.7.1"
  },
  "mimetype": "text/x-python",
  "name": "python",
  "npconvert_exporter": "python",
  "pygments_lexer": "ipython3",
  "version": 3
 },
 "nbformat": 4,
 "nbformat_minor": 2
}
